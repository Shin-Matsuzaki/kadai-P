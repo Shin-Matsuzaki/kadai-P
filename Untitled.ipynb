{
 "cells": [
  {
   "cell_type": "markdown",
   "metadata": {},
   "source": [
    "# 学習の流れ"
   ]
  },
  {
   "cell_type": "markdown",
   "metadata": {},
   "source": [
    "## 課題P-1　学習の基本的な流れ"
   ]
  },
  {
   "cell_type": "markdown",
   "metadata": {},
   "source": [
    "真値と予測値との誤差を損失関数として定義．  \n",
    "最適化とは，損失関数を最小化することで，誤差を最小化することである．  \n",
    "\n",
    "＜勾配降下法(SGD)＞  \n",
    "損失関数の最適化手法の1つ  \n",
    "勾配降下法において，入力層の重みを更新するために，出力層から第1層へと逆方向に伝播させることで勾配を求める(誤差逆伝播)  \n",
    "更新された重みから出力を再計算し，また勾配を求めるプロセスを繰り返すことによって，最適化が行われる"
   ]
  },
  {
   "cell_type": "markdown",
   "metadata": {},
   "source": [
    "## 課題P-2　バッチ学習とミニバッチ学習"
   ]
  },
  {
   "cell_type": "markdown",
   "metadata": {
    "ExecuteTime": {
     "end_time": "2019-10-10T07:46:38.889237Z",
     "start_time": "2019-10-10T07:46:38.881259Z"
    }
   },
   "source": [
    "- バッチ学習：パラメータ(重み)の更新にすべての訓練データを用いて学習すること  \n",
    "    - 全データを用いて損失関数を求めて学習を行うため，学習結果が安定しやすい\n",
    "    - 新たな学習データを追加するとき，全データを用いて再計算する必要がある→全データ数が少ないときに有効\n",
    "- ミニバッチ学習：全訓練データの中から一部のデータを取り出し，複数の訓練データでパラメータ更新を行う学習\n",
    "    - 用いるデータ数が少ないため，パラメータの変化に対して損失関数が敏感に反応する→局所的最適に陥りにくい\n",
    "    - NNでよく用いられる\n",
    "    \n",
    "確率的勾配降下法は，epochごとに訓練データをシャッフルする．"
   ]
  },
  {
   "cell_type": "code",
   "execution_count": null,
   "metadata": {},
   "outputs": [],
   "source": []
  }
 ],
 "metadata": {
  "kernelspec": {
   "display_name": "Python 3",
   "language": "python",
   "name": "python3"
  },
  "language_info": {
   "codemirror_mode": {
    "name": "ipython",
    "version": 3
   },
   "file_extension": ".py",
   "mimetype": "text/x-python",
   "name": "python",
   "nbconvert_exporter": "python",
   "pygments_lexer": "ipython3",
   "version": "3.7.3"
  },
  "toc": {
   "base_numbering": 1,
   "nav_menu": {},
   "number_sections": true,
   "sideBar": true,
   "skip_h1_title": false,
   "title_cell": "Table of Contents",
   "title_sidebar": "Contents",
   "toc_cell": false,
   "toc_position": {},
   "toc_section_display": true,
   "toc_window_display": false
  }
 },
 "nbformat": 4,
 "nbformat_minor": 2
}
